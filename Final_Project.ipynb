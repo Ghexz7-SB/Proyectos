{
 "cells": [
  {
   "cell_type": "markdown",
   "metadata": {
    "application/vnd.databricks.v1+cell": {
     "cellMetadata": {},
     "inputWidgets": {},
     "nuid": "c7059a4a-ccd7-457f-bce4-509f0535dab2",
     "showTitle": false,
     "title": ""
    }
   },
   "source": [
    "## Proyecto :  Construccion de un pipeline de ML  para la prediccion de ruido en  Airfoil \n"
   ]
  },
  {
   "cell_type": "markdown",
   "metadata": {
    "application/vnd.databricks.v1+cell": {
     "cellMetadata": {},
     "inputWidgets": {},
     "nuid": "f15db5d2-5036-4690-b60c-22d87cf70698",
     "showTitle": false,
     "title": ""
    }
   },
   "source": [
    "## Escenario\n"
   ]
  },
  {
   "cell_type": "markdown",
   "metadata": {
    "application/vnd.databricks.v1+cell": {
     "cellMetadata": {},
     "inputWidgets": {},
     "nuid": "7c674c20-bb5e-42e3-adea-1a459862053a",
     "showTitle": false,
     "title": ""
    }
   },
   "source": [
    "Eres ingeniero de datos en una empresa de consultoría aeronáutica. Tu empresa se enorgullece de poder diseñar de manera eficiente perfiles aerodinámicos (Airfoil) para su uso en aviones y autos deportivos. Los científicos de datos de tu oficina necesitan trabajar con diferentes algoritmos y datos en diferentes formatos. Si bien son buenos en aprendizaje automático, cuentan contigo para poder realizar trabajos de ETL y crear pipelines de ML. En este proyecto,  se utilizará la versión modificada del conjunto de datos de ruido propio de perfiles aerodinámicos de la NASA. Se limpiará este conjunto de datos, eliminando las filas duplicadas y eliminando las filas con valores nulos. Crearás un pipeline de ML para crear un modelo que predecirá el nivel de sonido (SoundLevel)en función de todas las demás columnas. Evaluarás el modelo y, hacia el final, lo conservarás.\n",
    "\n"
   ]
  },
  {
   "cell_type": "markdown",
   "metadata": {
    "application/vnd.databricks.v1+cell": {
     "cellMetadata": {},
     "inputWidgets": {},
     "nuid": "3a26f9b0-fff2-4138-959f-cde6f7f6659c",
     "showTitle": false,
     "title": ""
    }
   },
   "source": [
    "## Objetivos\n",
    "\n",
    "El siguiente proyecto constara de las siguientes partes :\n",
    "\n",
    "- Parte 1 Ejecutar el proceso de  ETL \n",
    "  - Cargar csv dataset\n",
    "  - Remover duplicados si los hubiera\n",
    "  - Eliminar  filas  nulas si las hubiera \n",
    "  - Hacer  transformaciones\n",
    "  - Guardar  la  data limpia  en formato parquet \n",
    "- Parte 2 Pipeline de  Machine Learning \n",
    "  - Crear un Pipeline de  Machine Learning  para la predicción\n",
    "- Parte 3 Evaluar el modelo\n",
    "  - Usar diversas metricas para evaluar el modelo\n",
    "- Parte 4 Conservar el modelo\n",
    "  - Guardar el modelo para futuras predicciones\n",
    "  - Cargar y verificar el modelo guardado\n"
   ]
  },
  {
   "cell_type": "markdown",
   "metadata": {
    "application/vnd.databricks.v1+cell": {
     "cellMetadata": {},
     "inputWidgets": {},
     "nuid": "4b8d8186-17ef-4145-ae2f-28feabd90cf4",
     "showTitle": false,
     "title": ""
    }
   },
   "source": [
    "## Datasets\n",
    "\n",
    "Se usara el siguiente dataset :\n",
    "\n",
    " - The original dataset can be found here NASA airfoil self noise dataset. https://archive.ics.uci.edu/dataset/291/airfoil+self+noise\n",
    " \n",
    " - This dataset is licensed under a Creative Commons Attribution 4.0 International (CC BY 4.0) license.\n"
   ]
  },
  {
   "cell_type": "markdown",
   "metadata": {
    "application/vnd.databricks.v1+cell": {
     "cellMetadata": {},
     "inputWidgets": {},
     "nuid": "7e4ce6e9-d4d1-47d8-83b7-d2d8280000b7",
     "showTitle": false,
     "title": ""
    }
   },
   "source": [
    "Diagram of an airfoil. - For informational purpose\n"
   ]
  },
  {
   "cell_type": "markdown",
   "metadata": {
    "application/vnd.databricks.v1+cell": {
     "cellMetadata": {},
     "inputWidgets": {},
     "nuid": "f020a9ef-0681-45b7-a0c1-6be0df097559",
     "showTitle": false,
     "title": ""
    }
   },
   "source": [
    "![Airfoil with flow](https://cf-courses-data.s3.us.cloud-object-storage.appdomain.cloud/IBMSkillsNetwork-BD0231EN-Coursera/images/Airfoil_with_flow.png)\n"
   ]
  },
  {
   "cell_type": "markdown",
   "metadata": {
    "application/vnd.databricks.v1+cell": {
     "cellMetadata": {},
     "inputWidgets": {},
     "nuid": "74afcbdd-d33f-4311-855c-fb3a1b400cae",
     "showTitle": false,
     "title": ""
    }
   },
   "source": [
    "Diagram showing the Angle of attack. - For informational purpose\n"
   ]
  },
  {
   "cell_type": "markdown",
   "metadata": {
    "application/vnd.databricks.v1+cell": {
     "cellMetadata": {},
     "inputWidgets": {},
     "nuid": "5fd16f91-dfb2-47d7-94bc-1c2d2b590f7d",
     "showTitle": false,
     "title": ""
    }
   },
   "source": [
    "![Airfoil angle of attack](https://cf-courses-data.s3.us.cloud-object-storage.appdomain.cloud/IBMSkillsNetwork-BD0231EN-Coursera/images/Airfoil_angle_of_attack.jpg)\n"
   ]
  },
  {
   "cell_type": "markdown",
   "metadata": {
    "application/vnd.databricks.v1+cell": {
     "cellMetadata": {},
     "inputWidgets": {},
     "nuid": "36fa9bda-c95e-4981-8d3a-d4037fa19d50",
     "showTitle": false,
     "title": ""
    }
   },
   "source": [
    "## Setup\n"
   ]
  },
  {
   "cell_type": "markdown",
   "metadata": {
    "application/vnd.databricks.v1+cell": {
     "cellMetadata": {},
     "inputWidgets": {},
     "nuid": "cb9c74fa-74fd-4168-8fb7-515dc1536e63",
     "showTitle": false,
     "title": ""
    }
   },
   "source": [
    "Se usara la siguiente libreria:\n",
    "\n",
    "*   [`PySpark`](https://spark.apache.org/docs/latest/api/python/index.html?utm_medium=Exinfluencer&utm_source=Exinfluencer&utm_content=000026UJ&utm_term=10006555&utm_id=NA-SkillsNetwork-Channel-SkillsNetworkCoursesIBMSkillsNetworkBD0231ENCoursera2789-2023-01-01) para conectarse al Spark Cluster\n"
   ]
  },
  {
   "cell_type": "code",
   "execution_count": 0,
   "metadata": {
    "application/vnd.databricks.v1+cell": {
     "cellMetadata": {
      "byteLimit": 2048000,
      "rowLimit": 10000
     },
     "inputWidgets": {},
     "nuid": "9531d018-9ff3-40d3-b944-c44565b63671",
     "showTitle": false,
     "title": ""
    },
    "tags": []
   },
   "outputs": [
    {
     "output_type": "stream",
     "name": "stdout",
     "output_type": "stream",
     "text": [
      "\u001B[33mWARNING: You are using pip version 21.2.4; however, version 24.2 is available.\r\nYou should consider upgrading via the '/local_disk0/.ephemeral_nfs/envs/pythonEnv-a5c35526-b385-47bb-b364-f63cd2c35b91/bin/python -m pip install --upgrade pip' command.\u001B[0m\r\n\u001B[33mWARNING: You are using pip version 21.2.4; however, version 24.2 is available.\r\nYou should consider upgrading via the '/local_disk0/.ephemeral_nfs/envs/pythonEnv-a5c35526-b385-47bb-b364-f63cd2c35b91/bin/python -m pip install --upgrade pip' command.\u001B[0m\r\n"
     ]
    }
   ],
   "source": [
    "!pip install pyspark==3.1.2 -q\n",
    "!pip install findspark -q"
   ]
  },
  {
   "cell_type": "markdown",
   "metadata": {
    "application/vnd.databricks.v1+cell": {
     "cellMetadata": {},
     "inputWidgets": {},
     "nuid": "ce13ee5e-3ec0-46e0-bdbb-bb153dda2eba",
     "showTitle": false,
     "title": ""
    }
   },
   "source": [
    "### Importando librerias requeridas\n",
    "\n"
   ]
  },
  {
   "cell_type": "code",
   "execution_count": 0,
   "metadata": {
    "application/vnd.databricks.v1+cell": {
     "cellMetadata": {
      "byteLimit": 2048000,
      "rowLimit": 10000
     },
     "inputWidgets": {},
     "nuid": "b35fae29-4c2e-4714-b1dd-efa7bdf06938",
     "showTitle": false,
     "title": ""
    },
    "tags": []
   },
   "outputs": [],
   "source": [
    "# You can also use this section to suppress warnings generated by your code:\n",
    "def warn(*args, **kwargs):\n",
    "    pass\n",
    "import warnings\n",
    "warnings.warn = warn\n",
    "warnings.filterwarnings('ignore')\n",
    "\n",
    "from pyspark.ml.feature import VectorAssembler\n",
    "from pyspark.ml.feature import StandardScaler\n",
    "from pyspark.ml.regression import LinearRegression\n",
    "from pyspark.ml.evaluation import RegressionEvaluator\n",
    "from pyspark.ml import Pipeline\n",
    "\n",
    "# FindSpark simplifies the process of using Apache Spark with Python\n",
    "\n",
    "import findspark\n",
    "findspark.init()"
   ]
  },
  {
   "cell_type": "markdown",
   "metadata": {
    "application/vnd.databricks.v1+cell": {
     "cellMetadata": {},
     "inputWidgets": {},
     "nuid": "46dcdfe7-6121-4554-bc95-f2a2196513c9",
     "showTitle": false,
     "title": ""
    }
   },
   "source": [
    "## Parte 1 - Proceso ETL\n"
   ]
  },
  {
   "cell_type": "markdown",
   "metadata": {
    "application/vnd.databricks.v1+cell": {
     "cellMetadata": {},
     "inputWidgets": {},
     "nuid": "0a34cf3a-996c-4f56-91ef-c9af42a95e08",
     "showTitle": false,
     "title": ""
    }
   },
   "source": [
    "### Task 1 - Import required libraries\n"
   ]
  },
  {
   "cell_type": "code",
   "execution_count": 0,
   "metadata": {
    "application/vnd.databricks.v1+cell": {
     "cellMetadata": {
      "byteLimit": 2048000,
      "rowLimit": 10000
     },
     "inputWidgets": {},
     "nuid": "e5b48ace-b2e3-4ce4-a19f-f34550df2154",
     "showTitle": false,
     "title": ""
    },
    "tags": []
   },
   "outputs": [],
   "source": [
    "from pyspark.sql import SparkSession"
   ]
  },
  {
   "cell_type": "markdown",
   "metadata": {
    "application/vnd.databricks.v1+cell": {
     "cellMetadata": {},
     "inputWidgets": {},
     "nuid": "9549dc2c-90eb-4502-a3f9-b73dc290baf0",
     "showTitle": false,
     "title": ""
    }
   },
   "source": [
    "### Task 2 - Create a spark session\n"
   ]
  },
  {
   "cell_type": "code",
   "execution_count": 0,
   "metadata": {
    "application/vnd.databricks.v1+cell": {
     "cellMetadata": {
      "byteLimit": 2048000,
      "rowLimit": 10000
     },
     "inputWidgets": {},
     "nuid": "7a5c0aee-ef8f-4c46-9317-c5ca52946351",
     "showTitle": false,
     "title": ""
    },
    "tags": []
   },
   "outputs": [],
   "source": [
    "#Creamos la SparkSession\n",
    "\n",
    "spark = SparkSession.builder.appName('FinalProject').getOrCreate()"
   ]
  },
  {
   "cell_type": "markdown",
   "metadata": {
    "application/vnd.databricks.v1+cell": {
     "cellMetadata": {},
     "inputWidgets": {},
     "nuid": "715940b8-8dd3-49b9-943a-639c5ca9a49e",
     "showTitle": false,
     "title": ""
    }
   },
   "source": [
    "### Task 3 - Load the csv file into a dataframe\n"
   ]
  },
  {
   "cell_type": "markdown",
   "metadata": {
    "application/vnd.databricks.v1+cell": {
     "cellMetadata": {},
     "inputWidgets": {},
     "nuid": "02694bee-cc13-4757-b729-ae6daf8f2e9b",
     "showTitle": false,
     "title": ""
    }
   },
   "source": [
    "Download the data file.\n",
    "\n",
    "NOTE : Please ensure you use the dataset below and not the original dataset mentioned above.\n"
   ]
  },
  {
   "cell_type": "code",
   "execution_count": 0,
   "metadata": {
    "application/vnd.databricks.v1+cell": {
     "cellMetadata": {
      "byteLimit": 2048000,
      "rowLimit": 10000
     },
     "inputWidgets": {},
     "nuid": "b2a6b81f-b560-4872-9b11-e460b084d6ed",
     "showTitle": false,
     "title": ""
    },
    "tags": []
   },
   "outputs": [
    {
     "output_type": "stream",
     "name": "stdout",
     "output_type": "stream",
     "text": [
      "--2024-09-24 05:49:01--  https://cf-courses-data.s3.us.cloud-object-storage.appdomain.cloud/IBMSkillsNetwork-BD0231EN-Coursera/datasets/NASA_airfoil_noise_raw.csv\r\nResolving cf-courses-data.s3.us.cloud-object-storage.appdomain.cloud (cf-courses-data.s3.us.cloud-object-storage.appdomain.cloud)... 169.63.118.104\r\nConnecting to cf-courses-data.s3.us.cloud-object-storage.appdomain.cloud (cf-courses-data.s3.us.cloud-object-storage.appdomain.cloud)|169.63.118.104|:443... connected.\r\nHTTP request sent, awaiting response... 200 OK\r\nLength: 60682 (59K) [text/csv]\r\nSaving to: ‘NASA_airfoil_noise_raw.csv’\r\n\r\n\r          NASA_airf   0%[                    ]       0  --.-KB/s               \rNASA_airfoil_noise_ 100%[===================>]  59.26K  --.-KB/s    in 0.09s   \r\n\r\n2024-09-24 05:49:02 (633 KB/s) - ‘NASA_airfoil_noise_raw.csv’ saved [60682/60682]\r\n\r\n"
     ]
    }
   ],
   "source": [
    "!wget https://cf-courses-data.s3.us.cloud-object-storage.appdomain.cloud/IBMSkillsNetwork-BD0231EN-Coursera/datasets/NASA_airfoil_noise_raw.csv\n"
   ]
  },
  {
   "cell_type": "markdown",
   "metadata": {
    "application/vnd.databricks.v1+cell": {
     "cellMetadata": {},
     "inputWidgets": {},
     "nuid": "6df9b286-e769-4e8f-90d1-0945c3ff52d3",
     "showTitle": false,
     "title": ""
    }
   },
   "source": [
    "Comprobamos si el archivo se descargo correctamente"
   ]
  },
  {
   "cell_type": "code",
   "execution_count": 0,
   "metadata": {
    "application/vnd.databricks.v1+cell": {
     "cellMetadata": {
      "byteLimit": 2048000,
      "rowLimit": 10000
     },
     "inputWidgets": {},
     "nuid": "f55e22c1-6496-4989-b565-a07c7508a069",
     "showTitle": false,
     "title": ""
    }
   },
   "outputs": [
    {
     "output_type": "stream",
     "name": "stdout",
     "output_type": "stream",
     "text": [
      "NASA_airfoil_noise_raw.csv\nazure\nconf\neventlogs\nganglia\nhadoop_accessed_config.lst\nlogs\nmetastore_db\npreload_class.lst\n"
     ]
    }
   ],
   "source": [
    "%sh ls /databricks/driver/"
   ]
  },
  {
   "cell_type": "markdown",
   "metadata": {
    "application/vnd.databricks.v1+cell": {
     "cellMetadata": {},
     "inputWidgets": {},
     "nuid": "3f1d6edb-af4d-4751-b14a-4146033b8fb3",
     "showTitle": false,
     "title": ""
    }
   },
   "source": [
    "Cargamos el dataset en un spark dataframe\n"
   ]
  },
  {
   "cell_type": "code",
   "execution_count": 0,
   "metadata": {
    "application/vnd.databricks.v1+cell": {
     "cellMetadata": {
      "byteLimit": 2048000,
      "rowLimit": 10000
     },
     "inputWidgets": {},
     "nuid": "b95b086d-b9e7-4557-bc4b-ac2de58d441a",
     "showTitle": false,
     "title": ""
    },
    "tags": []
   },
   "outputs": [],
   "source": [
    "# Load the dataset that you have downloaded in the previous task\n",
    "\n",
    "df = spark.read.csv('file:/databricks/driver/NASA_airfoil_noise_raw.csv',header=True,inferSchema=True)\n"
   ]
  },
  {
   "cell_type": "markdown",
   "metadata": {
    "application/vnd.databricks.v1+cell": {
     "cellMetadata": {},
     "inputWidgets": {},
     "nuid": "6ec6762c-b360-4b5d-b163-18df773a8ee2",
     "showTitle": false,
     "title": ""
    },
    "tags": []
   },
   "source": [
    "### Task 4 - Mostramos top 5 filas  del dataset\n"
   ]
  },
  {
   "cell_type": "code",
   "execution_count": 0,
   "metadata": {
    "application/vnd.databricks.v1+cell": {
     "cellMetadata": {
      "byteLimit": 2048000,
      "rowLimit": 10000
     },
     "inputWidgets": {},
     "nuid": "a508613e-e7d8-40ee-8c4a-c3c5b8e8052b",
     "showTitle": false,
     "title": ""
    }
   },
   "outputs": [
    {
     "output_type": "stream",
     "name": "stdout",
     "output_type": "stream",
     "text": [
      "+---------+-------------+-----------+------------------+-----------------------+----------+\n|Frequency|AngleOfAttack|ChordLength|FreeStreamVelocity|SuctionSideDisplacement|SoundLevel|\n+---------+-------------+-----------+------------------+-----------------------+----------+\n|      800|          0.0|     0.3048|              71.3|             0.00266337|   126.201|\n|     1000|          0.0|     0.3048|              71.3|             0.00266337|   125.201|\n|     1250|          0.0|     0.3048|              71.3|             0.00266337|   125.951|\n|     1600|          0.0|     0.3048|              71.3|             0.00266337|   127.591|\n|     2000|          0.0|     0.3048|              71.3|             0.00266337|   127.461|\n+---------+-------------+-----------+------------------+-----------------------+----------+\nonly showing top 5 rows\n\n"
     ]
    }
   ],
   "source": [
    "df.show(5)"
   ]
  },
  {
   "cell_type": "markdown",
   "metadata": {
    "application/vnd.databricks.v1+cell": {
     "cellMetadata": {},
     "inputWidgets": {},
     "nuid": "490c947b-e187-450a-a99c-437172e2bd26",
     "showTitle": false,
     "title": ""
    }
   },
   "source": [
    "### Task 6 - Mostramos el numero total de filas del dataset\n"
   ]
  },
  {
   "cell_type": "code",
   "execution_count": 0,
   "metadata": {
    "application/vnd.databricks.v1+cell": {
     "cellMetadata": {
      "byteLimit": 2048000,
      "rowLimit": 10000
     },
     "inputWidgets": {},
     "nuid": "e4a74f1e-f2c5-46ab-b9c7-ffdd97962d94",
     "showTitle": false,
     "title": ""
    },
    "tags": []
   },
   "outputs": [
    {
     "output_type": "stream",
     "name": "stdout",
     "output_type": "stream",
     "text": [
      "1522\n"
     ]
    }
   ],
   "source": [
    "rowcount1 = df.count()\n",
    "print(rowcount1)"
   ]
  },
  {
   "cell_type": "markdown",
   "metadata": {
    "application/vnd.databricks.v1+cell": {
     "cellMetadata": {},
     "inputWidgets": {},
     "nuid": "cdc29c99-25e2-47a7-93c0-b5d9565cc4dc",
     "showTitle": false,
     "title": ""
    }
   },
   "source": [
    "### Task 7 - Removemos las filas duplicadas\n"
   ]
  },
  {
   "cell_type": "code",
   "execution_count": 0,
   "metadata": {
    "application/vnd.databricks.v1+cell": {
     "cellMetadata": {
      "byteLimit": 2048000,
      "rowLimit": 10000
     },
     "inputWidgets": {},
     "nuid": "38987fae-08e3-4907-9709-bedb0fc75e34",
     "showTitle": false,
     "title": ""
    },
    "tags": []
   },
   "outputs": [],
   "source": [
    "df = df.dropDuplicates()\n"
   ]
  },
  {
   "cell_type": "markdown",
   "metadata": {
    "application/vnd.databricks.v1+cell": {
     "cellMetadata": {},
     "inputWidgets": {},
     "nuid": "75280709-ba12-4cfb-a761-f1daee642475",
     "showTitle": false,
     "title": ""
    }
   },
   "source": [
    "### Task 8 - Mostramos nuevamente el nummero de filas del  dataset\n"
   ]
  },
  {
   "cell_type": "code",
   "execution_count": 0,
   "metadata": {
    "application/vnd.databricks.v1+cell": {
     "cellMetadata": {
      "byteLimit": 2048000,
      "rowLimit": 10000
     },
     "inputWidgets": {},
     "nuid": "597296f1-79eb-4433-99ac-adab984a5cca",
     "showTitle": false,
     "title": ""
    },
    "tags": []
   },
   "outputs": [
    {
     "output_type": "stream",
     "name": "stdout",
     "output_type": "stream",
     "text": [
      "1503\n"
     ]
    }
   ],
   "source": [
    "rowcount2 = df.count()\n",
    "print(rowcount2)\n"
   ]
  },
  {
   "cell_type": "markdown",
   "metadata": {
    "application/vnd.databricks.v1+cell": {
     "cellMetadata": {},
     "inputWidgets": {},
     "nuid": "37f66d5d-08a1-4e26-9877-2df5b34f074f",
     "showTitle": false,
     "title": ""
    }
   },
   "source": [
    "### Task 9 -Removemos las filas con algun valor nulo"
   ]
  },
  {
   "cell_type": "code",
   "execution_count": 0,
   "metadata": {
    "application/vnd.databricks.v1+cell": {
     "cellMetadata": {
      "byteLimit": 2048000,
      "rowLimit": 10000
     },
     "inputWidgets": {},
     "nuid": "ab10b8c1-834c-44de-9964-9faab59d21f3",
     "showTitle": false,
     "title": ""
    },
    "tags": []
   },
   "outputs": [],
   "source": [
    "df = df.dropna()\n"
   ]
  },
  {
   "cell_type": "markdown",
   "metadata": {
    "application/vnd.databricks.v1+cell": {
     "cellMetadata": {},
     "inputWidgets": {},
     "nuid": "c319fcd3-b071-4c50-adf1-1f657bb89161",
     "showTitle": false,
     "title": ""
    }
   },
   "source": [
    "### Task 10 - Numero total de filas\n"
   ]
  },
  {
   "cell_type": "code",
   "execution_count": 0,
   "metadata": {
    "application/vnd.databricks.v1+cell": {
     "cellMetadata": {
      "byteLimit": 2048000,
      "rowLimit": 10000
     },
     "inputWidgets": {},
     "nuid": "d81d0d28-64cd-445a-8c84-ed86677ef775",
     "showTitle": false,
     "title": ""
    },
    "tags": []
   },
   "outputs": [
    {
     "output_type": "stream",
     "name": "stdout",
     "output_type": "stream",
     "text": [
      "1499\n"
     ]
    }
   ],
   "source": [
    "#your code goes here\n",
    "\n",
    "rowcount3 = df.count()\n",
    "print(rowcount3)\n"
   ]
  },
  {
   "cell_type": "markdown",
   "metadata": {
    "application/vnd.databricks.v1+cell": {
     "cellMetadata": {},
     "inputWidgets": {},
     "nuid": "6435aff9-c972-4a9d-acc5-bc57dd34717c",
     "showTitle": false,
     "title": ""
    }
   },
   "source": [
    "### Task 11 - Renombramos la  columna  \"SoundLevel\" a \"SoundLevelDecibels\"\n"
   ]
  },
  {
   "cell_type": "code",
   "execution_count": 0,
   "metadata": {
    "application/vnd.databricks.v1+cell": {
     "cellMetadata": {
      "byteLimit": 2048000,
      "rowLimit": 10000
     },
     "inputWidgets": {},
     "nuid": "a3882719-fa54-4128-ab7f-6e7595c47529",
     "showTitle": false,
     "title": ""
    },
    "tags": []
   },
   "outputs": [],
   "source": [
    "df = df.withColumnRenamed('SoundLevel','SoundLevelDecibels')\n"
   ]
  },
  {
   "cell_type": "code",
   "execution_count": 0,
   "metadata": {
    "application/vnd.databricks.v1+cell": {
     "cellMetadata": {
      "byteLimit": 2048000,
      "rowLimit": 10000
     },
     "inputWidgets": {},
     "nuid": "3e732a97-f36c-4854-9279-9fefea46ddbc",
     "showTitle": false,
     "title": ""
    },
    "tags": []
   },
   "outputs": [
    {
     "output_type": "stream",
     "name": "stdout",
     "output_type": "stream",
     "text": [
      "Out[22]: ['Frequency',\n 'AngleOfAttack',\n 'ChordLength',\n 'FreeStreamVelocity',\n 'SuctionSideDisplacement',\n 'SoundLevelDecibels']"
     ]
    }
   ],
   "source": [
    "df.columns"
   ]
  },
  {
   "cell_type": "markdown",
   "metadata": {
    "application/vnd.databricks.v1+cell": {
     "cellMetadata": {},
     "inputWidgets": {},
     "nuid": "557e3366-0aa2-4835-b6d1-7e6f5949083d",
     "showTitle": false,
     "title": ""
    }
   },
   "source": [
    "### Task 12 - Guardamos el dataset en un formato parquet, lo nombraremos: \"NASA_airfoil_noise_cleaned.parquet\"\n"
   ]
  },
  {
   "cell_type": "code",
   "execution_count": 0,
   "metadata": {
    "application/vnd.databricks.v1+cell": {
     "cellMetadata": {
      "byteLimit": 2048000,
      "rowLimit": 10000
     },
     "inputWidgets": {},
     "nuid": "eb7b59ce-ffda-48e6-9622-e01276c0a278",
     "showTitle": false,
     "title": ""
    },
    "tags": []
   },
   "outputs": [],
   "source": [
    "df.write.mode('overwrite').parquet('file:/databricks/driver/NASA_airfoil_noise_cleaned.parquet')\n",
    "\n"
   ]
  },
  {
   "cell_type": "code",
   "execution_count": 0,
   "metadata": {
    "application/vnd.databricks.v1+cell": {
     "cellMetadata": {
      "byteLimit": 2048000,
      "rowLimit": 10000
     },
     "inputWidgets": {},
     "nuid": "e003d344-c8c7-4b09-aeca-121f3d11f962",
     "showTitle": false,
     "title": ""
    }
   },
   "outputs": [
    {
     "output_type": "display_data",
     "data": {
      "text/html": [
       "<style scoped>\n",
       "  .table-result-container {\n",
       "    max-height: 300px;\n",
       "    overflow: auto;\n",
       "  }\n",
       "  table, th, td {\n",
       "    border: 1px solid black;\n",
       "    border-collapse: collapse;\n",
       "  }\n",
       "  th, td {\n",
       "    padding: 5px;\n",
       "  }\n",
       "  th {\n",
       "    text-align: left;\n",
       "  }\n",
       "</style><div class='table-result-container'><table class='table-result'><thead style='background-color: white'><tr><th>path</th><th>name</th><th>size</th><th>modificationTime</th></tr></thead><tbody><tr><td>file:/databricks/driver/preload_class.lst</td><td>preload_class.lst</td><td>1306936</td><td>1727145190867</td></tr><tr><td>file:/databricks/driver/hadoop_accessed_config.lst</td><td>hadoop_accessed_config.lst</td><td>2755</td><td>1727145190867</td></tr><tr><td>file:/databricks/driver/azure/</td><td>azure/</td><td>4096</td><td>1727145190867</td></tr><tr><td>file:/databricks/driver/conf/</td><td>conf/</td><td>4096</td><td>1727145189427</td></tr><tr><td>file:/databricks/driver/logs/</td><td>logs/</td><td>4096</td><td>1727157917156</td></tr><tr><td>file:/databricks/driver/eventlogs/</td><td>eventlogs/</td><td>4096</td><td>1727154028931</td></tr><tr><td>file:/databricks/driver/metastore_db/</td><td>metastore_db/</td><td>4096</td><td>1727154351732</td></tr><tr><td>file:/databricks/driver/NASA_airfoil_noise_raw.csv</td><td>NASA_airfoil_noise_raw.csv</td><td>60682</td><td>1686466677000</td></tr><tr><td>file:/databricks/driver/NASA_airfoil_noise_cleaned.parquet/</td><td>NASA_airfoil_noise_cleaned.parquet/</td><td>4096</td><td>1727158209560</td></tr><tr><td>file:/databricks/driver/ganglia/</td><td>ganglia/</td><td>4096</td><td>1727157612043</td></tr></tbody></table></div>"
      ]
     },
     "metadata": {
      "application/vnd.databricks.v1+output": {
       "addedWidgets": {},
       "aggData": [],
       "aggError": "",
       "aggOverflow": false,
       "aggSchema": [],
       "aggSeriesLimitReached": false,
       "aggType": "",
       "arguments": {},
       "columnCustomDisplayInfos": {},
       "data": [
        [
         "file:/databricks/driver/preload_class.lst",
         "preload_class.lst",
         1306936,
         1727145190867
        ],
        [
         "file:/databricks/driver/hadoop_accessed_config.lst",
         "hadoop_accessed_config.lst",
         2755,
         1727145190867
        ],
        [
         "file:/databricks/driver/azure/",
         "azure/",
         4096,
         1727145190867
        ],
        [
         "file:/databricks/driver/conf/",
         "conf/",
         4096,
         1727145189427
        ],
        [
         "file:/databricks/driver/logs/",
         "logs/",
         4096,
         1727157917156
        ],
        [
         "file:/databricks/driver/eventlogs/",
         "eventlogs/",
         4096,
         1727154028931
        ],
        [
         "file:/databricks/driver/metastore_db/",
         "metastore_db/",
         4096,
         1727154351732
        ],
        [
         "file:/databricks/driver/NASA_airfoil_noise_raw.csv",
         "NASA_airfoil_noise_raw.csv",
         60682,
         1686466677000
        ],
        [
         "file:/databricks/driver/NASA_airfoil_noise_cleaned.parquet/",
         "NASA_airfoil_noise_cleaned.parquet/",
         4096,
         1727158209560
        ],
        [
         "file:/databricks/driver/ganglia/",
         "ganglia/",
         4096,
         1727157612043
        ]
       ],
       "datasetInfos": [],
       "dbfsResultPath": null,
       "isJsonSchema": true,
       "metadata": {},
       "overflow": false,
       "plotOptions": {
        "customPlotOptions": {},
        "displayType": "table",
        "pivotAggregation": null,
        "pivotColumns": null,
        "xColumns": null,
        "yColumns": null
       },
       "removedWidgets": [],
       "schema": [
        {
         "metadata": "{}",
         "name": "path",
         "type": "\"string\""
        },
        {
         "metadata": "{}",
         "name": "name",
         "type": "\"string\""
        },
        {
         "metadata": "{}",
         "name": "size",
         "type": "\"long\""
        },
        {
         "metadata": "{}",
         "name": "modificationTime",
         "type": "\"long\""
        }
       ],
       "type": "table"
      }
     },
     "output_type": "display_data"
    }
   ],
   "source": [
    "display(dbutils.fs.ls(\"file:/databricks/driver\"))"
   ]
  },
  {
   "cell_type": "markdown",
   "metadata": {
    "application/vnd.databricks.v1+cell": {
     "cellMetadata": {},
     "inputWidgets": {},
     "nuid": "45f9319e-a900-4029-b59d-a28005bae7d9",
     "showTitle": false,
     "title": ""
    }
   },
   "source": [
    "#### Part 1 - Resumen\n"
   ]
  },
  {
   "cell_type": "code",
   "execution_count": 0,
   "metadata": {
    "application/vnd.databricks.v1+cell": {
     "cellMetadata": {
      "byteLimit": 2048000,
      "rowLimit": 10000
     },
     "inputWidgets": {},
     "nuid": "16be5b30-25ff-4495-98cc-e64369a99e51",
     "showTitle": false,
     "title": ""
    },
    "tags": []
   },
   "outputs": [
    {
     "output_type": "stream",
     "name": "stdout",
     "output_type": "stream",
     "text": [
      "Part 1 - Resumen\nTotal rows =  1522\nTotal rows after dropping duplicate rows =  1503\nTotal rows after dropping duplicate rows and rows with null values =  1499\nNew column name =  SoundLevelDecibels\nNASA_airfoil_noise_cleaned.parquet exists : True\n"
     ]
    }
   ],
   "source": [
    "print(\"Part 1 - Resumen\")\n",
    "\n",
    "print(\"Total rows = \", rowcount1)\n",
    "print(\"Total rows after dropping duplicate rows = \", rowcount2)\n",
    "print(\"Total rows after dropping duplicate rows and rows with null values = \", rowcount3)\n",
    "print(\"New column name = \", df.columns[-1])\n",
    "\n",
    "import os\n",
    "\n",
    "print(\"NASA_airfoil_noise_cleaned.parquet exists :\", os.path.isdir(\"NASA_airfoil_noise_cleaned.parquet\"))"
   ]
  },
  {
   "cell_type": "markdown",
   "metadata": {
    "application/vnd.databricks.v1+cell": {
     "cellMetadata": {},
     "inputWidgets": {},
     "nuid": "28262bd9-3f1a-4b3a-bbc9-24049d0e475e",
     "showTitle": false,
     "title": ""
    }
   },
   "source": [
    "## Part - 2 Creación de un  Machine Learning Pipeline\n"
   ]
  },
  {
   "cell_type": "markdown",
   "metadata": {
    "application/vnd.databricks.v1+cell": {
     "cellMetadata": {},
     "inputWidgets": {},
     "nuid": "d9716776-5d73-4610-ab74-305d166a489e",
     "showTitle": false,
     "title": ""
    }
   },
   "source": [
    "### Task 1 - Cargamos la data de \"NASA_airfoil_noise_cleaned.parquet\" en un dataframe\n"
   ]
  },
  {
   "cell_type": "code",
   "execution_count": 0,
   "metadata": {
    "application/vnd.databricks.v1+cell": {
     "cellMetadata": {
      "byteLimit": 2048000,
      "rowLimit": 10000
     },
     "inputWidgets": {},
     "nuid": "e8efd6c5-ac76-4fa8-bb99-05b6a57c2e32",
     "showTitle": false,
     "title": ""
    },
    "tags": []
   },
   "outputs": [],
   "source": [
    "df2 = spark.read.parquet('file:/databricks/driver/NASA_airfoil_noise_cleaned.parquet')\n"
   ]
  },
  {
   "cell_type": "markdown",
   "metadata": {
    "application/vnd.databricks.v1+cell": {
     "cellMetadata": {},
     "inputWidgets": {},
     "nuid": "97071d68-9520-41cb-b7ed-a1b33aa3abd5",
     "showTitle": false,
     "title": ""
    }
   },
   "source": [
    "### Task 2 - Numero de filas\n"
   ]
  },
  {
   "cell_type": "code",
   "execution_count": 0,
   "metadata": {
    "application/vnd.databricks.v1+cell": {
     "cellMetadata": {
      "byteLimit": 2048000,
      "rowLimit": 10000
     },
     "inputWidgets": {},
     "nuid": "a55d6362-76b5-468e-b675-aa9c88696082",
     "showTitle": false,
     "title": ""
    },
    "tags": []
   },
   "outputs": [
    {
     "output_type": "stream",
     "name": "stdout",
     "output_type": "stream",
     "text": [
      "1499\n"
     ]
    }
   ],
   "source": [
    "rowcount4 = df2.count()\n",
    "print(rowcount4)\n",
    "\n"
   ]
  },
  {
   "cell_type": "markdown",
   "metadata": {
    "application/vnd.databricks.v1+cell": {
     "cellMetadata": {},
     "inputWidgets": {},
     "nuid": "21a05ac8-f7a8-4115-bc9c-8c0b0832ecf3",
     "showTitle": false,
     "title": ""
    }
   },
   "source": [
    "### Task 3 - Definimos la etapa del  VectorAssembler del pipeline \n"
   ]
  },
  {
   "cell_type": "markdown",
   "metadata": {
    "application/vnd.databricks.v1+cell": {
     "cellMetadata": {},
     "inputWidgets": {},
     "nuid": "e9ae99e2-9fc0-41ab-9b61-abb7d61556be",
     "showTitle": false,
     "title": ""
    }
   },
   "source": [
    "Stage 1 - Ensamblamos las  columnas input  en una sola  columna \"features\". Usaremos todas las columnas excepto SoundLevelDecibels como caracteristicas input .\n"
   ]
  },
  {
   "cell_type": "code",
   "execution_count": 0,
   "metadata": {
    "application/vnd.databricks.v1+cell": {
     "cellMetadata": {
      "byteLimit": 2048000,
      "rowLimit": 10000
     },
     "inputWidgets": {},
     "nuid": "d587f160-1713-48ef-886d-c25252f50d26",
     "showTitle": false,
     "title": ""
    },
    "tags": []
   },
   "outputs": [
    {
     "output_type": "stream",
     "name": "stdout",
     "output_type": "stream",
     "text": [
      "Out[42]: ['Frequency',\n 'AngleOfAttack',\n 'ChordLength',\n 'FreeStreamVelocity',\n 'SuctionSideDisplacement']"
     ]
    }
   ],
   "source": [
    "df2.drop('SoundLevelDecibels').columns"
   ]
  },
  {
   "cell_type": "code",
   "execution_count": 0,
   "metadata": {
    "application/vnd.databricks.v1+cell": {
     "cellMetadata": {
      "byteLimit": 2048000,
      "rowLimit": 10000
     },
     "inputWidgets": {},
     "nuid": "9ed7c184-5f42-47dc-83cc-6660dec5ee43",
     "showTitle": false,
     "title": ""
    },
    "tags": []
   },
   "outputs": [],
   "source": [
    "from pyspark.ml.feature import VectorAssembler\n",
    "assembler = VectorAssembler(inputCols=df2.drop('SoundLevelDecibels').columns,outputCol='features')\n",
    "\n"
   ]
  },
  {
   "cell_type": "markdown",
   "metadata": {
    "application/vnd.databricks.v1+cell": {
     "cellMetadata": {},
     "inputWidgets": {},
     "nuid": "3bf1afdc-c9ad-4d72-badb-bcb6c04f5c88",
     "showTitle": false,
     "title": ""
    }
   },
   "source": [
    "### Task 4 - Definimos la etapa del StandardScaler del pipeline \n"
   ]
  },
  {
   "cell_type": "markdown",
   "metadata": {
    "application/vnd.databricks.v1+cell": {
     "cellMetadata": {},
     "inputWidgets": {},
     "nuid": "7ca614c4-8181-48a6-aa53-5ceaf3bab583",
     "showTitle": false,
     "title": ""
    }
   },
   "source": [
    "Stage 2 - Normalizar  \"features\" usando standard scaler y  guardandolo en la columna \"scaledFeatures\" \n"
   ]
  },
  {
   "cell_type": "code",
   "execution_count": 0,
   "metadata": {
    "application/vnd.databricks.v1+cell": {
     "cellMetadata": {
      "byteLimit": 2048000,
      "rowLimit": 10000
     },
     "inputWidgets": {},
     "nuid": "6a8eb786-30a9-4bbc-83aa-7724fcfd7495",
     "showTitle": false,
     "title": ""
    },
    "tags": []
   },
   "outputs": [],
   "source": [
    "from pyspark.ml.feature import StandardScaler\n",
    "\n",
    "scaler = StandardScaler(inputCol='features',outputCol='scaledFeatures')\n"
   ]
  },
  {
   "cell_type": "markdown",
   "metadata": {
    "application/vnd.databricks.v1+cell": {
     "cellMetadata": {},
     "inputWidgets": {},
     "nuid": "e4c9db53-028b-4656-ae2f-5f4a94b76e76",
     "showTitle": false,
     "title": ""
    }
   },
   "source": [
    "### Task 5 - Definimos la etapa de Model del pipeline\n"
   ]
  },
  {
   "cell_type": "markdown",
   "metadata": {
    "application/vnd.databricks.v1+cell": {
     "cellMetadata": {},
     "inputWidgets": {},
     "nuid": "8fa7ecb7-f3c9-46fa-8f48-4881aa72bed8",
     "showTitle": false,
     "title": ""
    }
   },
   "source": [
    "Stage 3 - Usaremos regresion lineal  para predecir \"SoundLevelDecibels\"\n",
    "\n",
    "**Nota: Usaremos scaledfeatures obtenidos del paso anterior (etapa StandardScaler del pipeline ).**\n"
   ]
  },
  {
   "cell_type": "code",
   "execution_count": 0,
   "metadata": {
    "application/vnd.databricks.v1+cell": {
     "cellMetadata": {
      "byteLimit": 2048000,
      "rowLimit": 10000
     },
     "inputWidgets": {},
     "nuid": "ee9b3193-5f8e-4612-b2f3-df8ee69065c5",
     "showTitle": false,
     "title": ""
    },
    "tags": []
   },
   "outputs": [],
   "source": [
    "from pyspark.ml.regression import LinearRegression\n",
    "lr = LinearRegression(featuresCol=\"scaledFeatures\", labelCol=\"SoundLevelDecibels\")\n"
   ]
  },
  {
   "cell_type": "markdown",
   "metadata": {
    "application/vnd.databricks.v1+cell": {
     "cellMetadata": {},
     "inputWidgets": {},
     "nuid": "fecb5a30-2582-4e96-a083-d88c262e7dc5",
     "showTitle": false,
     "title": ""
    }
   },
   "source": [
    "### Task 6 - Construyendo el pipeline pipeline\n"
   ]
  },
  {
   "cell_type": "markdown",
   "metadata": {
    "application/vnd.databricks.v1+cell": {
     "cellMetadata": {},
     "inputWidgets": {},
     "nuid": "aa7bf7e8-6c70-4883-a8e6-68f391c52042",
     "showTitle": false,
     "title": ""
    }
   },
   "source": [
    "Contruimos el  pipeline usando las tres etapas"
   ]
  },
  {
   "cell_type": "code",
   "execution_count": 0,
   "metadata": {
    "application/vnd.databricks.v1+cell": {
     "cellMetadata": {
      "byteLimit": 2048000,
      "rowLimit": 10000
     },
     "inputWidgets": {},
     "nuid": "26e980d4-6db7-4a12-a031-c783752008fa",
     "showTitle": false,
     "title": ""
    },
    "tags": []
   },
   "outputs": [],
   "source": [
    "from pyspark.ml import Pipeline\n",
    "pipeline = Pipeline(stages=[assembler,scaler,lr])"
   ]
  },
  {
   "cell_type": "markdown",
   "metadata": {
    "application/vnd.databricks.v1+cell": {
     "cellMetadata": {},
     "inputWidgets": {},
     "nuid": "f4d13614-82d7-485d-973e-9f384e376436",
     "showTitle": false,
     "title": ""
    }
   },
   "source": [
    "### Task 7 - Dividiendo los datos\n"
   ]
  },
  {
   "cell_type": "code",
   "execution_count": 0,
   "metadata": {
    "application/vnd.databricks.v1+cell": {
     "cellMetadata": {
      "byteLimit": 2048000,
      "rowLimit": 10000
     },
     "inputWidgets": {},
     "nuid": "d03869e4-ffc8-4ff4-99ab-26e9783c26cf",
     "showTitle": false,
     "title": ""
    },
    "tags": []
   },
   "outputs": [],
   "source": [
    "(trainingData, testingData) = df2.randomSplit([0.7,0.3],seed=42)\n",
    "\n"
   ]
  },
  {
   "cell_type": "markdown",
   "metadata": {
    "application/vnd.databricks.v1+cell": {
     "cellMetadata": {},
     "inputWidgets": {},
     "nuid": "458d505c-18b1-404c-9f33-80fe3ee8d4ef",
     "showTitle": false,
     "title": ""
    }
   },
   "source": [
    "### Task 8 - Ajustamos el pipeline\n"
   ]
  },
  {
   "cell_type": "code",
   "execution_count": 0,
   "metadata": {
    "application/vnd.databricks.v1+cell": {
     "cellMetadata": {
      "byteLimit": 2048000,
      "rowLimit": 10000
     },
     "inputWidgets": {},
     "nuid": "d79e10ef-d978-48f5-b671-5448e00a094f",
     "showTitle": false,
     "title": ""
    },
    "tags": []
   },
   "outputs": [],
   "source": [
    "pipelineModel = pipeline.fit(trainingData)"
   ]
  },
  {
   "cell_type": "markdown",
   "metadata": {
    "application/vnd.databricks.v1+cell": {
     "cellMetadata": {},
     "inputWidgets": {},
     "nuid": "b4dea3f8-bd7c-424d-89a6-4c9d66b78e93",
     "showTitle": false,
     "title": ""
    }
   },
   "source": [
    "#### Part 2 - Resumen \n"
   ]
  },
  {
   "cell_type": "code",
   "execution_count": 0,
   "metadata": {
    "application/vnd.databricks.v1+cell": {
     "cellMetadata": {
      "byteLimit": 2048000,
      "rowLimit": 10000
     },
     "inputWidgets": {},
     "nuid": "c4281206-8da2-4103-955c-cf730970644d",
     "showTitle": false,
     "title": ""
    },
    "tags": []
   },
   "outputs": [
    {
     "output_type": "stream",
     "name": "stdout",
     "output_type": "stream",
     "text": [
      "VectorAssembler_9f8692b86cd3\nStandardScaler_7558d53d0c18\nLinearRegression_bc7bd7efa9c5\n"
     ]
    }
   ],
   "source": [
    "for i in pipeline.getStages():\n",
    "    print (i)"
   ]
  },
  {
   "cell_type": "code",
   "execution_count": 0,
   "metadata": {
    "application/vnd.databricks.v1+cell": {
     "cellMetadata": {
      "byteLimit": 2048000,
      "rowLimit": 10000
     },
     "inputWidgets": {},
     "nuid": "5ba156d4-9f44-46df-a2a9-6a19bc5597cc",
     "showTitle": false,
     "title": ""
    },
    "tags": []
   },
   "outputs": [
    {
     "output_type": "stream",
     "name": "stdout",
     "output_type": "stream",
     "text": [
      "Part 2 - Resumen\nTotal rows =  1499\nPipeline Stage 1 =  VectorAssembler\nPipeline Stage 2 =  StandardScaler\nPipeline Stage 3 =  LinearRegression\nLabel column =  SoundLevelDecibels\n"
     ]
    }
   ],
   "source": [
    "print(\"Part 2 - Resumen\")\n",
    "print(\"Total rows = \", rowcount4)\n",
    "ps = [str(x).split(\"_\")[0] for x in pipeline.getStages()]\n",
    "\n",
    "print(\"Pipeline Stage 1 = \", ps[0])\n",
    "print(\"Pipeline Stage 2 = \", ps[1])\n",
    "print(\"Pipeline Stage 3 = \", ps[2])\n",
    "\n",
    "print(\"Label column = \", lr.getLabelCol())"
   ]
  },
  {
   "cell_type": "markdown",
   "metadata": {
    "application/vnd.databricks.v1+cell": {
     "cellMetadata": {},
     "inputWidgets": {},
     "nuid": "ffee722b-0925-4da2-84e2-4d3fe9694a84",
     "showTitle": false,
     "title": ""
    }
   },
   "source": [
    "## Part 3 - Evaluando el modelo\n"
   ]
  },
  {
   "cell_type": "markdown",
   "metadata": {
    "application/vnd.databricks.v1+cell": {
     "cellMetadata": {},
     "inputWidgets": {},
     "nuid": "86cb7a26-5473-43d3-96dc-8b1138b5d8c3",
     "showTitle": false,
     "title": ""
    }
   },
   "source": [
    "### Task 1 - Predecimos usando el modelo\n"
   ]
  },
  {
   "cell_type": "code",
   "execution_count": 0,
   "metadata": {
    "application/vnd.databricks.v1+cell": {
     "cellMetadata": {
      "byteLimit": 2048000,
      "rowLimit": 10000
     },
     "inputWidgets": {},
     "nuid": "9f9441ad-ba8b-4fbf-9751-266c07d2e7a8",
     "showTitle": false,
     "title": ""
    },
    "tags": []
   },
   "outputs": [],
   "source": [
    "predictions = pipelineModel.transform(testingData)\n"
   ]
  },
  {
   "cell_type": "code",
   "execution_count": 0,
   "metadata": {
    "application/vnd.databricks.v1+cell": {
     "cellMetadata": {
      "byteLimit": 2048000,
      "rowLimit": 10000
     },
     "inputWidgets": {},
     "nuid": "766e6d38-e6da-40fb-8761-3f7719dd2681",
     "showTitle": false,
     "title": ""
    },
    "tags": []
   },
   "outputs": [
    {
     "output_type": "stream",
     "name": "stdout",
     "output_type": "stream",
     "text": [
      "+---------+-------------+-----------+------------------+-----------------------+------------------+--------------------+--------------------+------------------+\n|Frequency|AngleOfAttack|ChordLength|FreeStreamVelocity|SuctionSideDisplacement|SoundLevelDecibels|            features|      scaledFeatures|        prediction|\n+---------+-------------+-----------+------------------+-----------------------+------------------+--------------------+--------------------+------------------+\n|      200|          7.3|     0.2286|              31.7|              0.0132672|           128.679|[200.0,7.3,0.2286...|[0.06359239499674...| 122.5972291437678|\n|      200|          8.9|     0.1016|              39.6|              0.0124596|            133.42|[200.0,8.9,0.1016...|[0.06359239499674...|127.37968204568845|\n|      200|          9.5|     0.0254|              31.7|             0.00461377|           119.146|[200.0,9.5,0.0254...|[0.06359239499674...|130.34077425074514|\n|      200|          9.5|     0.0254|              39.6|             0.00449821|           116.074|[200.0,9.5,0.0254...|[0.06359239499674...|131.11016975113546|\n|      200|          9.9|     0.1524|              71.3|              0.0193001|           134.319|[200.0,9.9,0.1524...|[0.06359239499674...|  127.126273601251|\n+---------+-------------+-----------+------------------+-----------------------+------------------+--------------------+--------------------+------------------+\nonly showing top 5 rows\n\n"
     ]
    }
   ],
   "source": [
    "predictions.show(5)"
   ]
  },
  {
   "cell_type": "markdown",
   "metadata": {
    "application/vnd.databricks.v1+cell": {
     "cellMetadata": {},
     "inputWidgets": {},
     "nuid": "ee8029cd-e1c4-4f78-9952-54f73f27a2ec",
     "showTitle": false,
     "title": ""
    }
   },
   "source": [
    "### Task 2 - Mostramos el MSE\n"
   ]
  },
  {
   "cell_type": "code",
   "execution_count": 0,
   "metadata": {
    "application/vnd.databricks.v1+cell": {
     "cellMetadata": {
      "byteLimit": 2048000,
      "rowLimit": 10000
     },
     "inputWidgets": {},
     "nuid": "917ed6b6-061e-4b10-9a9c-29f3c652e57e",
     "showTitle": false,
     "title": ""
    },
    "tags": []
   },
   "outputs": [
    {
     "output_type": "stream",
     "name": "stdout",
     "output_type": "stream",
     "text": [
      "24.997666255024164\n"
     ]
    }
   ],
   "source": [
    "from pyspark.ml.evaluation import RegressionEvaluator\n",
    "\n",
    "evaluatorMSE=RegressionEvaluator(labelCol='SoundLevelDecibels',predictionCol='prediction',metricName='mse')\n",
    "\n",
    "mse = evaluatorMSE.evaluate(predictions)\n",
    "print(mse)\n"
   ]
  },
  {
   "cell_type": "markdown",
   "metadata": {
    "application/vnd.databricks.v1+cell": {
     "cellMetadata": {},
     "inputWidgets": {},
     "nuid": "54b78b7f-8b1c-479c-b579-fbb5bcadd967",
     "showTitle": false,
     "title": ""
    }
   },
   "source": [
    "### Task 3 - Mostramos el MAE\n"
   ]
  },
  {
   "cell_type": "code",
   "execution_count": 0,
   "metadata": {
    "application/vnd.databricks.v1+cell": {
     "cellMetadata": {
      "byteLimit": 2048000,
      "rowLimit": 10000
     },
     "inputWidgets": {},
     "nuid": "905b0cd5-a5dc-45ad-8f89-02c371e9110e",
     "showTitle": false,
     "title": ""
    },
    "tags": []
   },
   "outputs": [
    {
     "output_type": "stream",
     "name": "stdout",
     "output_type": "stream",
     "text": [
      "3.913679095881195\n"
     ]
    }
   ],
   "source": [
    "evaluatorMAE=RegressionEvaluator(labelCol='SoundLevelDecibels',predictionCol='prediction',metricName='mae')\n",
    "mae = evaluatorMAE.evaluate(predictions)\n",
    "print(mae)\n"
   ]
  },
  {
   "cell_type": "markdown",
   "metadata": {
    "application/vnd.databricks.v1+cell": {
     "cellMetadata": {},
     "inputWidgets": {},
     "nuid": "188b0187-5576-434d-8370-6bc716af8a18",
     "showTitle": false,
     "title": ""
    }
   },
   "source": [
    "### Task 4 - Mostramos R-Cuadrado(R2)\n"
   ]
  },
  {
   "cell_type": "code",
   "execution_count": 0,
   "metadata": {
    "application/vnd.databricks.v1+cell": {
     "cellMetadata": {
      "byteLimit": 2048000,
      "rowLimit": 10000
     },
     "inputWidgets": {},
     "nuid": "4c234bde-d43d-4f93-b372-6b3c3b48331f",
     "showTitle": false,
     "title": ""
    },
    "tags": []
   },
   "outputs": [
    {
     "output_type": "stream",
     "name": "stdout",
     "output_type": "stream",
     "text": [
      "0.4959688408974626\n"
     ]
    }
   ],
   "source": [
    "evaluatorR2=RegressionEvaluator(labelCol='SoundLevelDecibels',predictionCol='prediction',metricName='r2')\n",
    "r2 = evaluatorR2.evaluate(predictions)\n",
    "print(r2)\n"
   ]
  },
  {
   "cell_type": "markdown",
   "metadata": {
    "application/vnd.databricks.v1+cell": {
     "cellMetadata": {},
     "inputWidgets": {},
     "nuid": "148f8c3d-b223-4570-9eb5-cc4d0b607e7d",
     "showTitle": false,
     "title": ""
    }
   },
   "source": [
    "#### Part 3 - Resumen\n"
   ]
  },
  {
   "cell_type": "code",
   "execution_count": 0,
   "metadata": {
    "application/vnd.databricks.v1+cell": {
     "cellMetadata": {
      "byteLimit": 2048000,
      "rowLimit": 10000
     },
     "inputWidgets": {},
     "nuid": "baacf33f-9f62-49ae-a96e-638c8ca9a976",
     "showTitle": false,
     "title": ""
    },
    "tags": []
   },
   "outputs": [
    {
     "output_type": "stream",
     "name": "stdout",
     "output_type": "stream",
     "text": [
      "Part 3 - Evaluation\nMean Squared Error =  25.0\nMean Absolute Error =  3.91\nR Squared =  0.5\nIntercept =  132.88\n"
     ]
    }
   ],
   "source": [
    "print(\"Part 3 - Evaluation\")\n",
    "\n",
    "print(\"Mean Squared Error = \", round(mse,2))\n",
    "print(\"Mean Absolute Error = \", round(mae,2))\n",
    "print(\"R Squared = \", round(r2,2))\n",
    "\n",
    "lrModel = pipelineModel.stages[-1]\n",
    "\n",
    "print(\"Intercept = \", round(lrModel.intercept,2))\n"
   ]
  },
  {
   "cell_type": "markdown",
   "metadata": {
    "application/vnd.databricks.v1+cell": {
     "cellMetadata": {},
     "inputWidgets": {},
     "nuid": "d50a5021-1a29-4f78-99a9-104b60e0cdb8",
     "showTitle": false,
     "title": ""
    }
   },
   "source": [
    "## Part 4 - Convervando el  Modelo\n"
   ]
  },
  {
   "cell_type": "markdown",
   "metadata": {
    "application/vnd.databricks.v1+cell": {
     "cellMetadata": {},
     "inputWidgets": {},
     "nuid": "e1da5043-5a60-4b7e-981f-6cb483677185",
     "showTitle": false,
     "title": ""
    }
   },
   "source": [
    "### Task 1 - Guardo el model en la ruta \"Final_Project\"\n"
   ]
  },
  {
   "cell_type": "code",
   "execution_count": 0,
   "metadata": {
    "application/vnd.databricks.v1+cell": {
     "cellMetadata": {
      "byteLimit": 2048000,
      "rowLimit": 10000
     },
     "inputWidgets": {},
     "nuid": "ba130ffe-e4f8-47f9-b7a4-2a785bcc2593",
     "showTitle": false,
     "title": ""
    },
    "tags": []
   },
   "outputs": [
    {
     "output_type": "stream",
     "name": "stdout",
     "output_type": "stream",
     "text": [
      "mkdir: cannot create directory ‘/databricks/driver/Final_Project’: File exists\r\n"
     ]
    }
   ],
   "source": [
    "!mkdir /databricks/driver/Final_Project\n",
    "pipelineModel.write().overwrite().save('/databricks/driver/Final_Project')\n"
   ]
  },
  {
   "cell_type": "code",
   "execution_count": 0,
   "metadata": {
    "application/vnd.databricks.v1+cell": {
     "cellMetadata": {
      "byteLimit": 2048000,
      "rowLimit": 10000
     },
     "inputWidgets": {},
     "nuid": "f870d08a-6ca1-40b8-be32-98da61aeea0d",
     "showTitle": false,
     "title": ""
    }
   },
   "outputs": [],
   "source": [
    "%sh ls /databricks/driver/Final_Project/"
   ]
  },
  {
   "cell_type": "markdown",
   "metadata": {
    "application/vnd.databricks.v1+cell": {
     "cellMetadata": {},
     "inputWidgets": {},
     "nuid": "371d4ff7-5396-4f9a-9bfe-fddcf34ac6f1",
     "showTitle": false,
     "title": ""
    }
   },
   "source": [
    "### Task 2 - Cargamos el modelo de la ruta \"Final_Project\"\n"
   ]
  },
  {
   "cell_type": "code",
   "execution_count": 0,
   "metadata": {
    "application/vnd.databricks.v1+cell": {
     "cellMetadata": {
      "byteLimit": 2048000,
      "rowLimit": 10000
     },
     "inputWidgets": {},
     "nuid": "09e49dca-3059-4b42-9be9-7ab9e243d048",
     "showTitle": false,
     "title": ""
    },
    "tags": []
   },
   "outputs": [],
   "source": [
    "from pyspark.ml.pipeline import PipelineModel\n",
    "loadedPipelineModel = PipelineModel.load('/databricks/driver/Final_Project')\n"
   ]
  },
  {
   "cell_type": "markdown",
   "metadata": {
    "application/vnd.databricks.v1+cell": {
     "cellMetadata": {},
     "inputWidgets": {},
     "nuid": "327ad42b-9b53-4245-8522-9b3b333552a1",
     "showTitle": false,
     "title": ""
    }
   },
   "source": [
    "### Task 3 - Hacemos predicciones usando  el  modelo cargado  en testdata\n"
   ]
  },
  {
   "cell_type": "code",
   "execution_count": 0,
   "metadata": {
    "application/vnd.databricks.v1+cell": {
     "cellMetadata": {
      "byteLimit": 2048000,
      "rowLimit": 10000
     },
     "inputWidgets": {},
     "nuid": "f7946403-55c3-40f0-8a12-6d1762afeb4f",
     "showTitle": false,
     "title": ""
    },
    "tags": []
   },
   "outputs": [],
   "source": [
    "predictions2= loadedPipelineModel.transform(testingData)\n"
   ]
  },
  {
   "cell_type": "markdown",
   "metadata": {
    "application/vnd.databricks.v1+cell": {
     "cellMetadata": {},
     "inputWidgets": {},
     "nuid": "9d95a6f0-e7b2-46fd-92a9-aa9a8c40f882",
     "showTitle": false,
     "title": ""
    }
   },
   "source": [
    "### Task 4 - Mostramos las  predicciones\n"
   ]
  },
  {
   "cell_type": "code",
   "execution_count": 0,
   "metadata": {
    "application/vnd.databricks.v1+cell": {
     "cellMetadata": {
      "byteLimit": 2048000,
      "rowLimit": 10000
     },
     "inputWidgets": {},
     "nuid": "7ca7667d-84f7-4487-917b-4b13fdfbaecf",
     "showTitle": false,
     "title": ""
    },
    "tags": []
   },
   "outputs": [
    {
     "output_type": "stream",
     "name": "stdout",
     "output_type": "stream",
     "text": [
      "+------------------+------------------+\n|SoundLevelDecibels|        prediction|\n+------------------+------------------+\n|           128.679| 122.5972291437678|\n|            133.42|127.37968204568845|\n|           119.146|130.34077425074514|\n|           116.074|131.11016975113546|\n|           134.319|  127.126273601251|\n+------------------+------------------+\nonly showing top 5 rows\n\n"
     ]
    }
   ],
   "source": [
    "\n",
    "predictions2.select(['SoundLevelDecibels','prediction']).show(5)\n"
   ]
  },
  {
   "cell_type": "markdown",
   "metadata": {
    "application/vnd.databricks.v1+cell": {
     "cellMetadata": {},
     "inputWidgets": {},
     "nuid": "58d28a28-96da-4f8f-9cb7-94e180156beb",
     "showTitle": false,
     "title": ""
    }
   },
   "source": [
    "#### Part 4 - Resumen\n"
   ]
  },
  {
   "cell_type": "code",
   "execution_count": 0,
   "metadata": {
    "application/vnd.databricks.v1+cell": {
     "cellMetadata": {
      "byteLimit": 2048000,
      "rowLimit": 10000
     },
     "inputWidgets": {},
     "nuid": "c138ff67-de4e-463a-be93-d447dba90dda",
     "showTitle": false,
     "title": ""
    },
    "tags": []
   },
   "outputs": [
    {
     "output_type": "stream",
     "name": "stdout",
     "output_type": "stream",
     "text": [
      "Part 4 - Resumen\nNumber of stages in the pipeline =  3\nCoefficient for Frequency is -3.9906\nCoefficient for AngleOfAttack is -2.2881\nCoefficient for ChordLength is -3.3269\nCoefficient for FreeStreamVelocity is 1.4832\nCoefficient for SuctionSideDisplacement is -2.0551\n"
     ]
    }
   ],
   "source": [
    "print(\"Part 4 - Resumen\")\n",
    "\n",
    "loadedmodel = loadedPipelineModel.stages[-1]\n",
    "totalstages = len(loadedPipelineModel.stages)\n",
    "inputcolumns = loadedPipelineModel.stages[0].getInputCols()\n",
    "\n",
    "print(\"Number of stages in the pipeline = \", totalstages)\n",
    "for i,j in zip(inputcolumns, loadedmodel.coefficients):\n",
    "    print(f\"Coefficient for {i} is {round(j,4)}\")"
   ]
  },
  {
   "cell_type": "markdown",
   "metadata": {
    "application/vnd.databricks.v1+cell": {
     "cellMetadata": {},
     "inputWidgets": {},
     "nuid": "ee03b0c5-cc0b-4a8d-9400-8f3945cb3797",
     "showTitle": false,
     "title": ""
    }
   },
   "source": [
    "### Detenemos la Spark Session\n"
   ]
  },
  {
   "cell_type": "code",
   "execution_count": 0,
   "metadata": {
    "application/vnd.databricks.v1+cell": {
     "cellMetadata": {
      "byteLimit": 2048000,
      "rowLimit": 10000
     },
     "inputWidgets": {},
     "nuid": "4c0a56f2-4bc9-4376-947a-5f01412c423b",
     "showTitle": false,
     "title": ""
    },
    "tags": []
   },
   "outputs": [
    {
     "output_type": "display_data",
     "data": {
      "text/html": [
       "<style scoped>\n",
       "  .ansiout {\n",
       "    display: block;\n",
       "    unicode-bidi: embed;\n",
       "    white-space: pre-wrap;\n",
       "    word-wrap: break-word;\n",
       "    word-break: break-all;\n",
       "    font-family: \"Menlo\", \"Monaco\", \"Consolas\", \"Ubuntu Mono\", \"Source Code Pro\", monospace;\n",
       "    font-size: 13px;\n",
       "    color: #555;\n",
       "    margin-left: 4px;\n",
       "    line-height: 19px;\n",
       "  }\n",
       "</style>"
      ]
     },
     "metadata": {
      "application/vnd.databricks.v1+output": {
       "arguments": {},
       "data": "",
       "errorSummary": "The spark context has stopped and the driver is restarting. Your notebook will be automatically reattached.",
       "errorTraceType": "html",
       "metadata": {},
       "type": "ipynbError"
      }
     },
     "output_type": "display_data"
    }
   ],
   "source": [
    "spark.stop()"
   ]
  },
  {
   "cell_type": "markdown",
   "metadata": {
    "application/vnd.databricks.v1+cell": {
     "cellMetadata": {},
     "inputWidgets": {},
     "nuid": "4c434e05-399c-48cf-a0aa-02682000300c",
     "showTitle": false,
     "title": ""
    }
   },
   "source": [
    "## Autor\n"
   ]
  },
  {
   "cell_type": "markdown",
   "metadata": {
    "application/vnd.databricks.v1+cell": {
     "cellMetadata": {},
     "inputWidgets": {},
     "nuid": "712734a6-5153-4370-bca2-579b4060204b",
     "showTitle": false,
     "title": ""
    }
   },
   "source": [
    "[Gerson Roberto Salazar Boslanga](https://www.linkedin.com/in/gerson-salazar-89196230a/)\n"
   ]
  }
 ],
 "metadata": {
  "application/vnd.databricks.v1+notebook": {
   "dashboards": [],
   "environmentMetadata": null,
   "language": "python",
   "notebookMetadata": {
    "mostRecentlyExecutedCommandWithImplicitDF": {
     "commandId": 1885627205036455,
     "dataframes": [
      "_sqldf"
     ]
    },
    "pythonIndentUnit": 4
   },
   "notebookName": "Final_Project",
   "widgets": {}
  },
  "kernelspec": {
   "display_name": "Python",
   "language": "python",
   "name": "conda-env-python-py"
  },
  "language_info": {
   "codemirror_mode": {
    "name": "ipython",
    "version": 3
   },
   "file_extension": ".py",
   "mimetype": "text/x-python",
   "name": "python",
   "nbconvert_exporter": "python",
   "pygments_lexer": "ipython3",
   "version": "3.7.12"
  },
  "prev_pub_hash": "7ade9c37d49d8d8ca6fc6e9e3c3b8b99b1549067e622440dcb8959d88a3508fd"
 },
 "nbformat": 4,
 "nbformat_minor": 0
}
